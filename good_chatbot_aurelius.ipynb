{
 "cells": [
  {
   "cell_type": "code",
   "execution_count": 1,
   "metadata": {},
   "outputs": [
    {
     "data": {
      "text/plain": [
       "{'cluster_name': 'elasticsearch',\n",
       " 'status': 'yellow',\n",
       " 'timed_out': False,\n",
       " 'number_of_nodes': 1,\n",
       " 'number_of_data_nodes': 1,\n",
       " 'active_primary_shards': 10,\n",
       " 'active_shards': 10,\n",
       " 'relocating_shards': 0,\n",
       " 'initializing_shards': 0,\n",
       " 'unassigned_shards': 3,\n",
       " 'delayed_unassigned_shards': 0,\n",
       " 'number_of_pending_tasks': 0,\n",
       " 'number_of_in_flight_fetch': 0,\n",
       " 'task_max_waiting_in_queue_millis': 0,\n",
       " 'active_shards_percent_as_number': 76.92307692307693}"
      ]
     },
     "execution_count": 1,
     "metadata": {},
     "output_type": "execute_result"
    }
   ],
   "source": [
    "import requests\n",
    "from haystack.document_stores.elasticsearch import ElasticsearchDocumentStore\n",
    "from haystack.nodes import DensePassageRetriever\n",
    "from transformers import pipeline\n",
    "requests.get('http://localhost:9200/_cluster/health').json()"
   ]
  },
  {
   "cell_type": "code",
   "execution_count": 2,
   "metadata": {},
   "outputs": [
    {
     "name": "stderr",
     "output_type": "stream",
     "text": [
      "/home/pancrackhead/anaconda3/lib/python3.10/site-packages/elasticsearch/connection/base.py:200: ElasticsearchWarning: Elasticsearch built-in security features are not enabled. Without authentication, your cluster could be accessible to anyone. See https://www.elastic.co/guide/en/elasticsearch/reference/7.17/security-minimal-setup.html to enable security.\n",
      "  warnings.warn(message, category=ElasticsearchWarning)\n"
     ]
    },
    {
     "data": {
      "text/plain": [
       "{'count': 597,\n",
       " '_shards': {'total': 1, 'successful': 1, 'skipped': 0, 'failed': 0}}"
      ]
     },
     "execution_count": 2,
     "metadata": {},
     "output_type": "execute_result"
    }
   ],
   "source": [
    "doc_store = ElasticsearchDocumentStore(\n",
    "    host='localhost',\n",
    "    username='', password='',\n",
    "    index='aurelius'\n",
    ")\n",
    "\n",
    "with open('./meditations.txt', 'r') as f:\n",
    "    data = f.read()\n",
    "\n",
    "data = data.split('\\n')\n",
    "\n",
    "data_json = [\n",
    "    {\n",
    "        'content': paragraph,\n",
    "        'meta': {\n",
    "            'source': 'meditations'\n",
    "        }\n",
    "    } for paragraph in data\n",
    "]\n",
    "\n",
    "doc_store.write_documents(data_json)\n",
    "requests.get('http://localhost:9200/aurelius/_count').json()\n"
   ]
  },
  {
   "cell_type": "code",
   "execution_count": 3,
   "metadata": {},
   "outputs": [
    {
     "name": "stderr",
     "output_type": "stream",
     "text": [
      "/home/pancrackhead/anaconda3/lib/python3.10/site-packages/torch/_utils.py:776: UserWarning: TypedStorage is deprecated. It will be removed in the future and UntypedStorage will be the only storage class. This should only matter to you if you are using storages directly.  To access UntypedStorage directly, use tensor.untyped_storage() instead of tensor.storage()\n",
      "  return self.fget.__get__(instance, owner)()\n",
      "The tokenizer class you load from this checkpoint is not the same type as the class this function is called from. It may result in unexpected tokenization. \n",
      "The tokenizer class you load from this checkpoint is 'DPRQuestionEncoderTokenizer'. \n",
      "The class this function is called from is 'DPRContextEncoderTokenizerFast'.\n"
     ]
    },
    {
     "data": {
      "application/vnd.jupyter.widget-view+json": {
       "model_id": "1053097e57b943afb422943ad94267b7",
       "version_major": 2,
       "version_minor": 0
      },
      "text/plain": [
       "Updating embeddings:   0%|          | 0/597 [00:00<?, ? Docs/s]"
      ]
     },
     "metadata": {},
     "output_type": "display_data"
    },
    {
     "data": {
      "application/vnd.jupyter.widget-view+json": {
       "model_id": "e865801417ba4be497e96e54281a0838",
       "version_major": 2,
       "version_minor": 0
      },
      "text/plain": [
       "Create embeddings:   0%|          | 0/608 [00:00<?, ? Docs/s]"
      ]
     },
     "metadata": {},
     "output_type": "display_data"
    }
   ],
   "source": [
    "retriever = DensePassageRetriever(\n",
    "    document_store=doc_store,\n",
    "    query_embedding_model='facebook/dpr-question_encoder-single-nq-base',\n",
    "    passage_embedding_model='facebook/dpr-ctx_encoder-single-nq-base',\n",
    "    use_gpu=True,\n",
    "    embed_title=True\n",
    ")\n",
    "doc_store.update_embeddings(retriever=retriever)"
   ]
  },
  {
   "cell_type": "code",
   "execution_count": 4,
   "metadata": {},
   "outputs": [],
   "source": [
    "result = \"What do you think about Julius Cesar?\""
   ]
  },
  {
   "cell_type": "code",
   "execution_count": 5,
   "metadata": {},
   "outputs": [
    {
     "name": "stdout",
     "output_type": "stream",
     "text": [
      "What do you think about Julius Cesar?\n",
      "0.4583497643470764\n",
      "0.1835387945175171\n",
      "0.132802814245224\n",
      "0.10407187789678574\n",
      "0.09345057606697083\n",
      "0.052504267543554306\n",
      "0.04106731712818146\n",
      "0.03497106954455376\n",
      "0.03272003307938576\n",
      "0.01962636224925518\n",
      "('the whole court is dead', 'What soul then has skill and knowledge? That which knows beginning and end', 'those among us who are called Patricians are rather deficient in paternal affection', 'benevolent to his own kind', 'I have no leisure', 'how little he was satisfied', 'benevolent disposition', 'think where are they all now', 'if they have not determined about me individually', 'I observed no concealment of his opinions with respect to those whom he condemned')\n"
     ]
    }
   ],
   "source": [
    "prompt = result\n",
    "con = retriever.retrieve(prompt)\n",
    "# count = 0\n",
    "ans = []\n",
    "score = []\n",
    "print(prompt)\n",
    "for i in con:\n",
    "    # print(\"=\"*100)\n",
    "    # count+=1\n",
    "    # print(count)\n",
    "    x = i.content\n",
    "    question_answerer = pipeline(\"question-answering\", model='distilbert-base-cased-distilled-squad')\n",
    "    # question_answerer = pipeline(\"question-answering\", model='/home/pancrackhead/Desktop/berikc_stable/fine_tuned_bert')\n",
    "    context = x\n",
    "    result = question_answerer(question=prompt, context=context)\n",
    "    ans.append(result['answer'])\n",
    "    score.append(result['score'])\n",
    "    \n",
    "    # print(\n",
    "    # f\"Answer: '{result['answer']}', score: {round(result['score'], 4)}, start: {result['start']}, end: {result['end']}\")\n",
    "    # print(f\"Answer: '{result['answer']}', score: {round(result['score'], 4)}\")\n",
    "# print(result['answer'][0])\n",
    "\n",
    "score, ans = zip(*sorted(zip(score, ans), reverse=True))\n",
    "\n",
    "for i in score:\n",
    "    print(i)\n",
    "print(ans)\n"
   ]
  }
 ],
 "metadata": {
  "interpreter": {
   "hash": "18533251bd12187c2a20fd5d2abc6efa2ba326edbf7054a6e1e517cc3b7e25b3"
  },
  "kernelspec": {
   "display_name": "Python 3.10.9 ('base')",
   "language": "python",
   "name": "python3"
  },
  "language_info": {
   "codemirror_mode": {
    "name": "ipython",
    "version": 3
   },
   "file_extension": ".py",
   "mimetype": "text/x-python",
   "name": "python",
   "nbconvert_exporter": "python",
   "pygments_lexer": "ipython3",
   "version": "3.10.9"
  },
  "orig_nbformat": 4
 },
 "nbformat": 4,
 "nbformat_minor": 2
}
